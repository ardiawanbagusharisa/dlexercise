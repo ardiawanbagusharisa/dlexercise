{
  "nbformat": 4,
  "nbformat_minor": 0,
  "metadata": {
    "colab": {
      "provenance": []
    },
    "kernelspec": {
      "name": "python3",
      "display_name": "Python 3"
    },
    "language_info": {
      "name": "python"
    }
  },
  "cells": [
    {
      "cell_type": "markdown",
      "source": [
        "**Exercise 1.1**\n",
        "\n",
        "Here I just modify a bit the guessing game template provided by GPT. To make it more interesting, added max number of attempt.\n",
        "\n",
        "Here is the GPT link: https://chatgpt.com/share/68b83d90-3194-8008-a9b1-b435b90b4db0"
      ],
      "metadata": {
        "id": "KXSkcLSfsoqT"
      }
    },
    {
      "cell_type": "code",
      "execution_count": 4,
      "metadata": {
        "colab": {
          "base_uri": "https://localhost:8080/"
        },
        "id": "8_8xejS8pFyp",
        "outputId": "ec321686-439e-4ef7-dec1-0e9c3b261104"
      },
      "outputs": [
        {
          "output_type": "stream",
          "name": "stdout",
          "text": [
            "Number guessing game! Guess the number between 1 and 100 in less than 5 guesses.\n",
            "Enter your guess: 40\n",
            "Too low!\n",
            "Enter your guess: 75\n",
            "Too high!\n",
            "Enter your guess: 60\n",
            "Too low!\n",
            "Enter your guess: 68\n",
            "Too high!\n",
            "Enter your guess: 65\n",
            "Congrats! You guess 65 in 5 attempts.\n"
          ]
        }
      ],
      "source": [
        "import random\n",
        "\n",
        "def guessgame():\n",
        "  num_to_guess = random.randint(1, 100)\n",
        "  attempt = 0\n",
        "\n",
        "  print(\"Number guessing game! Guess the number between 1 and 100 in less than 5 guesses.\")\n",
        "\n",
        "  while attempt < 5:\n",
        "    try:\n",
        "      guess = int(input(\"Enter your guess: \"))\n",
        "      attempt += 1\n",
        "\n",
        "      if guess == num_to_guess:\n",
        "        print(f\"Congrats! You guess {num_to_guess} in {attempt} attempts.\")\n",
        "        break\n",
        "      elif guess < num_to_guess:\n",
        "        print(\"Too low!\")\n",
        "      else:\n",
        "        print(\"Too high!\")\n",
        "\n",
        "    except ValueError:\n",
        "      print(\"Enter a valid number!\")\n",
        "\n",
        "# Main\n",
        "guessgame()"
      ]
    },
    {
      "cell_type": "markdown",
      "source": [
        "**Exercise 1.2**\n",
        "\n",
        "Load MNIST and set batch size."
      ],
      "metadata": {
        "id": "jzXNvgULsPIC"
      }
    },
    {
      "cell_type": "code",
      "source": [
        "from logging import root\n",
        "import torch\n",
        "from torch import nn\n",
        "from torch.utils.data import DataLoader\n",
        "from torchvision import datasets\n",
        "from torchvision.transforms import ToTensor\n",
        "\n",
        "# MNIST dataset\n",
        "data = datasets.MNIST(\n",
        "    root = \"data\",\n",
        "    train = False,\n",
        "    download = True,\n",
        "    transform = ToTensor(),\n",
        ")\n",
        "\n",
        "test_loader_batch = DataLoader(data, batch_size=64)\n"
      ],
      "metadata": {
        "colab": {
          "base_uri": "https://localhost:8080/"
        },
        "id": "JksKXuMAvDP2",
        "outputId": "85b79a1e-f3f8-471b-8b85-933928400663"
      },
      "execution_count": 5,
      "outputs": [
        {
          "output_type": "stream",
          "name": "stderr",
          "text": [
            "100%|██████████| 9.91M/9.91M [00:01<00:00, 5.46MB/s]\n",
            "100%|██████████| 28.9k/28.9k [00:00<00:00, 161kB/s]\n",
            "100%|██████████| 1.65M/1.65M [00:01<00:00, 1.51MB/s]\n",
            "100%|██████████| 4.54k/4.54k [00:00<00:00, 6.55MB/s]\n"
          ]
        }
      ]
    },
    {
      "cell_type": "code",
      "source": [
        "import torch\n",
        "import torch.nn as nn\n",
        "import torch.nn.functional as F\n",
        "import torchvision\n",
        "import torchvision.transforms as transforms\n",
        "from torch.utils.data import DataLoader\n",
        "import matplotlib.pyplot as plt\n",
        "\n",
        "# ------------------------\n",
        "# CNN model\n",
        "# ------------------------\n",
        "class CNN(nn.Module):\n",
        "    def __init__(self):\n",
        "        super(CNN, self).__init__()\n",
        "\n",
        "        # First block\n",
        "        self.conv1 = nn.Sequential(\n",
        "            nn.Conv2d(in_channels=1, out_channels=8, kernel_size=5, stride=1, padding=2),\n",
        "            nn.ReLU(inplace=True),\n",
        "            nn.MaxPool2d(kernel_size=2)  # -> (B, 8, 14, 14)\n",
        "        )\n",
        "\n",
        "        # Second block\n",
        "        self.conv2 = nn.Sequential(\n",
        "            nn.Conv2d(8, 16, kernel_size=5, stride=1, padding=2),\n",
        "            nn.ReLU(inplace=True),\n",
        "            nn.Conv2d(16, 32, kernel_size=5, stride=1, padding=2),\n",
        "            nn.ReLU(inplace=True),\n",
        "            nn.MaxPool2d(kernel_size=2)  # -> (B, 32, 7, 7)\n",
        "        )\n",
        "\n",
        "        # Third block\n",
        "        self.conv3 = nn.Sequential(\n",
        "            nn.Conv2d(32, 64, kernel_size=5, stride=1, padding=2),\n",
        "            nn.ReLU(inplace=True),\n",
        "            nn.Conv2d(64, 64, kernel_size=5, stride=1, padding=2),\n",
        "            nn.ReLU(inplace=True),\n",
        "        )\n",
        "\n",
        "        # Fully connected\n",
        "        self.fc = nn.Linear(64 * 7 * 7, 10)  # -> 10 classes\n",
        "\n",
        "    def forward(self, x):\n",
        "        x = self.conv1(x)              # (B, 8, 14, 14)\n",
        "        x = self.conv2(x)              # (B, 32, 7, 7)\n",
        "        x = self.conv3(x)              # (B, 64, 7, 7)\n",
        "        x = torch.flatten(x, 1)        # (B, 64*7*7)\n",
        "        x = self.fc(x)                 # (B, 10)\n",
        "        return x\n",
        "\n",
        "# ------------------------\n",
        "# Load MNIST dataset\n",
        "# ------------------------\n",
        "transform = transforms.Compose([transforms.ToTensor()])\n",
        "test_dataset = torchvision.datasets.MNIST(root=\"./data\", train=False, transform=transform, download=True)\n",
        "test_loader = DataLoader(test_dataset, batch_size=8, shuffle=True)  # small batch for demo\n",
        "\n",
        "# ------------------------\n",
        "# Run model on sample batch\n",
        "# ------------------------\n",
        "device = torch.device(\"cuda\" if torch.cuda.is_available() else \"cpu\")\n",
        "model = CNN().to(device)\n",
        "\n",
        "# Get a batch of test data\n",
        "images, labels = next(iter(test_loader))\n",
        "images, labels = images.to(device), labels.to(device)\n",
        "\n",
        "# Forward pass\n",
        "outputs = model(images)\n",
        "\n",
        "# Convert outputs to predicted classes\n",
        "_, predicted = torch.max(outputs, 1)\n",
        "\n",
        "# ------------------------\n",
        "# Show results\n",
        "# ------------------------\n",
        "print(\"Predicted labels:\", predicted.cpu().numpy())\n",
        "print(\"True labels     :\", labels.cpu().numpy())\n",
        "\n",
        "# Plot images with labels\n",
        "plt.figure(figsize=(12, 4))\n",
        "for i in range(len(images)):\n",
        "    plt.subplot(2, 4, i+1)\n",
        "    plt.imshow(images[i].cpu().squeeze(), cmap=\"gray\")\n",
        "    plt.title(f\"Pred: {predicted[i].item()}\\nTrue: {labels[i].item()}\")\n",
        "    plt.axis(\"off\")\n",
        "\n",
        "plt.tight_layout()\n",
        "plt.show()\n"
      ],
      "metadata": {
        "colab": {
          "base_uri": "https://localhost:8080/",
          "height": 421
        },
        "id": "pYt4Z8d-wY_w",
        "outputId": "971ab669-a8c4-45b8-953f-c7286078cc32"
      },
      "execution_count": 13,
      "outputs": [
        {
          "output_type": "stream",
          "name": "stdout",
          "text": [
            "Predicted labels: [5 5 5 5 5 5 5 5]\n",
            "True labels     : [3 4 1 2 7 6 9 3]\n"
          ]
        },
        {
          "output_type": "display_data",
          "data": {
            "text/plain": [
              "<Figure size 1200x400 with 8 Axes>"
            ],
            "image/png": "[encoded data removed]"
          },
          "metadata": {}
        }
      ]
    },
    {
      "cell_type": "markdown",
      "source": [
        "1. ReLu vs Leaky ReLu: relu is simple activation function where the value is more than the threshold, it will boosted. Otherwise, will be just 0. But in Leaky ReLu, instead of directly put 0, it still give a small negative slope (alpha = 0.01 for example); which will reduce the neurons stuck problem (not learning).  \n",
        "\n",
        "2. Activation function is a mechanism to enable the network to \"learn\" non-linearly. Otherwise, CNN will be just linear combinations of inputs (like single matrix multiplication). Other than ReLu and Leaky ReLu, we got sigmoid, Tanh, and softmax (which normalizes output into a probability distribution).\n",
        "\n",
        "3. It's just means that load the test dataset instead of training dataset. WHile the ToTensor() will converts images or numpy arrays into PyTorch tensors and scales pixel values from (0-255) to (0-1).\n",
        "\n",
        "4. The batch size is the number of samples processed together before updating the model weights once. Let it be 60K samples with 128 batch size, each epoch will process 60K/128 = 469 batches. Larger batch size means faster training (more paralell) but of course more memory needed, but smaller means more updates, and may generalize better.\n",
        "\n",
        "5. Max Pooling 2D is producing maximum value inside the 2x2 window across the feature map. We could also say downsmapling the feature maps for fewer parameters, which means faster computations.\n",
        "\n",
        "6. Lastly, a fully connected (dense) layer connects every input neuron to every output neuron. Usually comes after convolution and pooling layers to combine extracted features into final predictions. In classification (e.g., MNIST digits), the last fully connected layer maps features → 10 output neurons (digits 0-9).\n",
        "\n",
        "\n",
        "GPT ref link: https://chatgpt.com/share/68b84fbf-e094-8008-abe0-d26580683042"
      ],
      "metadata": {
        "id": "1lMv_gU26UFm"
      }
    },
    {
      "cell_type": "code",
      "source": [],
      "metadata": {
        "id": "X_iByfZC9_m8"
      },
      "execution_count": null,
      "outputs": []
    }
  ]
}